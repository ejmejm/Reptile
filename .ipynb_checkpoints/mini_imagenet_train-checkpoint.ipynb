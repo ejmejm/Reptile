{
 "cells": [
  {
   "cell_type": "code",
   "execution_count": 3,
   "metadata": {},
   "outputs": [],
   "source": [
    "import numpy as np\n",
    "import pandas as pd\n",
    "import matplotlib.pyplot as plt\n",
    "import cv2\n",
    "import os\n",
    "import glob\n",
    "from keras.models import Sequential\n",
    "from keras.layers import InputLayer, Dense, Conv2D, MaxPool2D, Flatten\n",
    "\n",
    "%matplotlib inline"
   ]
  },
  {
   "cell_type": "code",
   "execution_count": 4,
   "metadata": {},
   "outputs": [],
   "source": [
    "data_dir = 'data/miniimagenet/'\n",
    "train_dir = os.path.join(data_dir, 'train')\n",
    "test_dir = os.path.join(data_dir, 'train')\n",
    "valid_dir = os.path.join(data_dir, 'train')"
   ]
  },
  {
   "cell_type": "code",
   "execution_count": 5,
   "metadata": {},
   "outputs": [],
   "source": [
    "IMG_SIZE = 64\n",
    "IMG_CHANNELS = 3\n",
    "N_CLASSES = len(os.listdir(train_dir))\n",
    "N_INNER_CLASSES = 10\n",
    "INNER_EPOCHS = 1\n",
    "INNER_BATCH_SIZE = 64\n",
    "N_INNER_STEPS = 10\n",
    "INNER_LR = 0.001\n",
    "OUTER_EPOCHS = 1000\n",
    "OUTER_LR = 0.01"
   ]
  },
  {
   "cell_type": "markdown",
   "metadata": {},
   "source": [
    "## Define Image Loading Functions"
   ]
  },
  {
   "cell_type": "code",
   "execution_count": 6,
   "metadata": {},
   "outputs": [],
   "source": [
    "img_cache = {}"
   ]
  },
  {
   "cell_type": "code",
   "execution_count": 7,
   "metadata": {},
   "outputs": [],
   "source": [
    "def preprocess_img(img, size=IMG_SIZE):\n",
    "    return cv2.resize(img, (size, size))\n",
    "\n",
    "def load_img(class_dir, img_name, img_path=None):\n",
    "    if img_path:\n",
    "        img_name = img_path[img_path.rfind('/')+1:]\n",
    "    else:\n",
    "        img_path = os.path.join(class_dir, img_name[:img_name.find('_')], img_name)\n",
    "    \n",
    "    # If image is already loaded into cache return it\n",
    "    if img_name in img_cache:\n",
    "        return img_cache[img_name]\n",
    "    else:\n",
    "        img = cv2.imread(img_path)\n",
    "        img = preprocess_img(img, size=IMG_SIZE)\n",
    "        img_cache[img_name] = img\n",
    "        return img"
   ]
  },
  {
   "cell_type": "markdown",
   "metadata": {},
   "source": [
    "## Building the DataFrame of Image Names"
   ]
  },
  {
   "cell_type": "code",
   "execution_count": 8,
   "metadata": {},
   "outputs": [],
   "source": [
    "train_classes = np.asarray(os.listdir(train_dir))"
   ]
  },
  {
   "cell_type": "code",
   "execution_count": 9,
   "metadata": {},
   "outputs": [],
   "source": [
    "cols = ['class', 'img_name']\n",
    "df_train = pd.DataFrame(columns=cols)\n",
    "\n",
    "for cat in train_classes:\n",
    "    class_list = []\n",
    "    cat_dir = os.listdir(os.path.join(train_dir, cat))\n",
    "    for img_name in cat_dir:\n",
    "        class_list.append([cat, img_name])\n",
    "    tmp_df = pd.DataFrame(class_list, columns=cols)\n",
    "    df_train = df_train.append(tmp_df)\n",
    "    \n",
    "df_train = df_train.sample(frac=1)\n",
    "df_train.reset_index(inplace=True)\n",
    "df_train.drop('index', inplace=True, axis=1)"
   ]
  },
  {
   "cell_type": "markdown",
   "metadata": {},
   "source": [
    "## Functions for Generating Tasks and Formatting Data"
   ]
  },
  {
   "cell_type": "code",
   "execution_count": 10,
   "metadata": {},
   "outputs": [],
   "source": [
    "def sample_task(data, n_classes=N_INNER_CLASSES):\n",
    "    classes = np.random.choice(train_classes, size=n_classes, replace=False)\n",
    "    task_indices = data['class'].map(lambda x: x in classes)\n",
    "    task_data = data[task_indices]\n",
    "    return task_data\n",
    "\n",
    "def gen_batches(task_data, batch_size=INNER_BATCH_SIZE, data_dir=train_dir):\n",
    "    task_data = pd.concat([task_data, pd.get_dummies(task_data['class'])], axis=1)\n",
    "    while True:\n",
    "        epoch_data = task_data.sample(frac=1)\n",
    "        for i in range((len(epoch_data) // batch_size) - 1):\n",
    "            print(i)\n",
    "            X_names = epoch_data.iloc[i*batch_size:(i+1)*batch_size]['img_name'].values\n",
    "            X = np.asarray([load_img(data_dir, img_name) for img_name in X_names])\n",
    "            y = epoch_data.drop(['class', 'img_name'], axis=1).iloc[i*batch_size:(i+1)*batch_size].values\n",
    "            \n",
    "            yield X, y"
   ]
  },
  {
   "cell_type": "markdown",
   "metadata": {},
   "source": [
    "## Building a Model"
   ]
  },
  {
   "cell_type": "code",
   "execution_count": 11,
   "metadata": {},
   "outputs": [
    {
     "name": "stdout",
     "output_type": "stream",
     "text": [
      "_________________________________________________________________\n",
      "Layer (type)                 Output Shape              Param #   \n",
      "=================================================================\n",
      "conv2d_1 (Conv2D)            (None, 60, 60, 32)        2432      \n",
      "_________________________________________________________________\n",
      "max_pooling2d_1 (MaxPooling2 (None, 30, 30, 32)        0         \n",
      "_________________________________________________________________\n",
      "conv2d_2 (Conv2D)            (None, 28, 28, 64)        18496     \n",
      "_________________________________________________________________\n",
      "conv2d_3 (Conv2D)            (None, 26, 26, 64)        36928     \n",
      "_________________________________________________________________\n",
      "flatten_1 (Flatten)          (None, 43264)             0         \n",
      "_________________________________________________________________\n",
      "dense_1 (Dense)              (None, 10)                432650    \n",
      "=================================================================\n",
      "Total params: 490,506\n",
      "Trainable params: 490,506\n",
      "Non-trainable params: 0\n",
      "_________________________________________________________________\n"
     ]
    }
   ],
   "source": [
    "model = Sequential()\n",
    "model.add(InputLayer(input_shape=(IMG_SIZE, IMG_SIZE, IMG_CHANNELS)))\n",
    "model.add(Conv2D(32, 5, activation='relu'))\n",
    "model.add(MaxPool2D())\n",
    "model.add(Conv2D(64, 3, activation='relu'))\n",
    "model.add(Conv2D(64, 3, activation='relu'))\n",
    "model.add(Flatten())\n",
    "model.add(Dense(N_INNER_CLASSES, activation='softmax'))\n",
    "\n",
    "model.compile(optimizer='SGD',\n",
    "              loss='categorical_crossentropy', \n",
    "              metrics=['accuracy'])\n",
    "\n",
    "model.summary()"
   ]
  },
  {
   "cell_type": "markdown",
   "metadata": {},
   "source": [
    "## Training the Model"
   ]
  },
  {
   "cell_type": "code",
   "execution_count": null,
   "metadata": {},
   "outputs": [
    {
     "name": "stdout",
     "output_type": "stream",
     "text": [
      "------\n",
      "Epoch 1/1\n",
      "0\n",
      "1\n",
      " 1/10 [==>...........................] - ETA: 12s - loss: 13.5237 - acc: 0.12502\n",
      " 2/10 [=====>........................] - ETA: 10s - loss: 14.0654 - acc: 0.10943\n",
      " 3/10 [========>.....................] - ETA: 8s - loss: 14.4138 - acc: 0.0938 4\n",
      " 4/10 [===========>..................] - ETA: 7s - loss: 14.4621 - acc: 0.09385\n",
      " 5/10 [==============>...............] - ETA: 5s - loss: 14.4407 - acc: 0.09696\n",
      " 6/10 [=================>............] - ETA: 4s - loss: 14.6363 - acc: 0.08597\n",
      " 7/10 [====================>.........] - ETA: 3s - loss: 14.5602 - acc: 0.09158\n",
      " 8/10 [=======================>......] - ETA: 2s - loss: 14.5661 - acc: 0.09189\n",
      " 9/10 [==========================>...] - ETA: 1s - loss: 14.6825 - acc: 0.085110\n",
      "10/10 [==============================] - 11s 1s/step - loss: 14.7505 - acc: 0.0813\n",
      "------\n",
      "Epoch 1/1\n",
      "0\n",
      "1\n",
      " 1/10 [==>...........................] - ETA: 11s - loss: 13.0391 - acc: 0.17192\n",
      " 2/10 [=====>........................] - ETA: 7s - loss: 13.9490 - acc: 0.1250 3\n",
      " 3/10 [========>.....................] - ETA: 6s - loss: 14.0844 - acc: 0.11984\n",
      " 4/10 [===========>..................] - ETA: 5s - loss: 14.2780 - acc: 0.10945\n",
      " 5/10 [==============>...............] - ETA: 4s - loss: 14.1927 - acc: 0.11566\n",
      " 6/10 [=================>............] - ETA: 3s - loss: 14.2618 - acc: 0.11207\n",
      " 7/10 [====================>.........] - ETA: 2s - loss: 14.3830 - acc: 0.10498\n",
      " 8/10 [=======================>......] - ETA: 1s - loss: 14.4110 - acc: 0.10359\n",
      " 9/10 [==========================>...] - ETA: 0s - loss: 14.4328 - acc: 0.102410\n",
      "10/10 [==============================] - 8s 826ms/step - loss: 14.5006 - acc: 0.0984\n",
      "------\n",
      "Epoch 1/1\n",
      "0\n",
      "1\n",
      " 1/10 [==>...........................] - ETA: 10s - loss: 13.1289 - acc: 0.07812\n",
      " 2/10 [=====>........................] - ETA: 8s - loss: 13.3643 - acc: 0.1172 3\n",
      " 3/10 [========>.....................] - ETA: 6s - loss: 13.9464 - acc: 0.09904\n",
      " 4/10 [===========>..................] - ETA: 5s - loss: 14.1116 - acc: 0.09775\n",
      " 5/10 [==============>...............] - ETA: 4s - loss: 14.1099 - acc: 0.10316\n",
      " 6/10 [=================>............] - ETA: 3s - loss: 14.2767 - acc: 0.09647\n",
      " 7/10 [====================>.........] - ETA: 2s - loss: 14.3959 - acc: 0.09158\n",
      " 8/10 [=======================>......] - ETA: 1s - loss: 14.4537 - acc: 0.08989\n",
      " 9/10 [==========================>...] - ETA: 0s - loss: 14.4708 - acc: 0.090310\n",
      "10/10 [==============================] - 8s 841ms/step - loss: 14.4844 - acc: 0.0906\n",
      "------\n",
      "Epoch 1/1\n",
      "0\n",
      "1\n",
      " 1/10 [==>...........................] - ETA: 9s - loss: 13.5597 - acc: 0.09382\n",
      " 2/10 [=====>........................] - ETA: 10s - loss: 14.2093 - acc: 0.08593\n",
      " 3/10 [========>.....................] - ETA: 7s - loss: 14.0061 - acc: 0.1094 4\n",
      " 4/10 [===========>..................] - ETA: 5s - loss: 14.1563 - acc: 0.10555\n",
      " 5/10 [==============>...............] - ETA: 4s - loss: 14.1961 - acc: 0.10626\n",
      " 6/10 [=================>............] - ETA: 3s - loss: 14.1387 - acc: 0.11207\n",
      " 7/10 [====================>.........] - ETA: 2s - loss: 14.1696 - acc: 0.11168\n",
      " 8/10 [=======================>......] - ETA: 1s - loss: 14.1613 - acc: 0.11339\n",
      " 9/10 [==========================>...] - ETA: 0s - loss: 14.0429 - acc: 0.121510\n",
      "10/10 [==============================] - 8s 787ms/step - loss: 14.1497 - acc: 0.1156\n",
      "------\n",
      "Epoch 1/1\n",
      "0\n",
      "1\n",
      " 1/10 [==>...........................] - ETA: 9s - loss: 14.1033 - acc: 0.12502\n",
      " 2/10 [=====>........................] - ETA: 7s - loss: 14.2293 - acc: 0.11723\n",
      " 3/10 [========>.....................] - ETA: 6s - loss: 14.1873 - acc: 0.11984\n",
      " 4/10 [===========>..................] - ETA: 5s - loss: 14.4181 - acc: 0.10555\n",
      " 5/10 [==============>...............] - ETA: 4s - loss: 14.5567 - acc: 0.09696\n",
      " 6/10 [=================>............] - ETA: 3s - loss: 14.7329 - acc: 0.08597\n",
      " 7/10 [====================>.........] - ETA: 2s - loss: 14.7150 - acc: 0.08718\n",
      " 8/10 [=======================>......] - ETA: 1s - loss: 14.6385 - acc: 0.09189\n",
      " 9/10 [==========================>...] - ETA: 0s - loss: 14.5790 - acc: 0.095510\n",
      "10/10 [==============================] - 9s 877ms/step - loss: 14.5818 - acc: 0.0953\n",
      "------\n",
      "Epoch 1/1\n",
      "0\n",
      "1\n",
      " 1/10 [==>...........................] - ETA: 10s - loss: 14.6070 - acc: 0.09382\n",
      " 2/10 [=====>........................] - ETA: 7s - loss: 14.7329 - acc: 0.0859 3\n",
      " 3/10 [========>.....................] - ETA: 5s - loss: 14.5231 - acc: 0.09904\n",
      " 4/10 [===========>..................] - ETA: 4s - loss: 14.8589 - acc: 0.07815\n",
      " 5/10 [==============>...............] - ETA: 3s - loss: 14.7581 - acc: 0.08446\n",
      " 6/10 [=================>............] - ETA: 3s - loss: 14.6910 - acc: 0.08857\n",
      " 7/10 [====================>.........] - ETA: 2s - loss: 14.6430 - acc: 0.09158\n",
      " 8/10 [=======================>......] - ETA: 1s - loss: 14.5126 - acc: 0.09969\n",
      " 9/10 [==========================>...] - ETA: 0s - loss: 14.4951 - acc: 0.100710\n",
      "10/10 [==============================] - 7s 709ms/step - loss: 14.4307 - acc: 0.1047\n",
      "------\n",
      "Epoch 1/1\n",
      "0\n",
      "1\n",
      " 1/10 [==>...........................] - ETA: 8s - loss: 14.1033 - acc: 0.12502\n",
      " 2/10 [=====>........................] - ETA: 6s - loss: 14.4811 - acc: 0.10163\n",
      " 3/10 [========>.....................] - ETA: 5s - loss: 14.5231 - acc: 0.09904\n",
      " 4/10 [===========>..................] - ETA: 4s - loss: 14.4181 - acc: 0.10555\n",
      " 5/10 [==============>...............] - ETA: 3s - loss: 14.4055 - acc: 0.10626\n",
      " 6/10 [=================>............] - ETA: 2s - loss: 14.3132 - acc: 0.11207\n",
      " 7/10 [====================>.........] - ETA: 1s - loss: 14.3192 - acc: 0.11168\n",
      " 8/10 [=======================>......] - ETA: 1s - loss: 14.2607 - acc: 0.11529\n",
      " 9/10 [==========================>...] - ETA: 0s - loss: 14.0754 - acc: 0.126710\n",
      "10/10 [==============================] - 6s 616ms/step - loss: 14.1033 - acc: 0.1250\n",
      "------\n",
      "Epoch 1/1\n",
      "0\n",
      "1\n",
      " 1/10 [==>...........................] - ETA: 9s - loss: 14.3552 - acc: 0.10942\n",
      " 2/10 [=====>........................] - ETA: 7s - loss: 14.3552 - acc: 0.10943\n",
      " 3/10 [========>.....................] - ETA: 5s - loss: 14.2712 - acc: 0.11464\n",
      " 4/10 [===========>..................] - ETA: 4s - loss: 14.3552 - acc: 0.10945\n",
      " 5/10 [==============>...............] - ETA: 3s - loss: 14.3048 - acc: 0.11256\n",
      " 6/10 [=================>............] - ETA: 2s - loss: 14.4391 - acc: 0.10427\n",
      " 7/10 [====================>.........] - ETA: 2s - loss: 14.3912 - acc: 0.10718\n",
      " 8/10 [=======================>......] - ETA: 1s - loss: 14.4496 - acc: 0.10359\n",
      " 9/10 [==========================>...] - ETA: 0s - loss: 14.2992 - acc: 0.112810\n",
      "10/10 [==============================] - 7s 735ms/step - loss: 14.4055 - acc: 0.1062\n",
      "------\n",
      "Epoch 1/1\n",
      "0\n",
      "1\n",
      " 1/10 [==>...........................] - ETA: 7s - loss: 14.3552 - acc: 0.10942\n",
      " 2/10 [=====>........................] - ETA: 6s - loss: 14.4811 - acc: 0.1016"
     ]
    }
   ],
   "source": [
    "for i in range(OUTER_EPOCHS):\n",
    "    print('------', len(img_cache))\n",
    "    task = sample_task(df_train)\n",
    "    data = gen_batches(task)\n",
    "    initial_weights = model.get_weights()\n",
    "    model.fit_generator(data,\n",
    "              steps_per_epoch=N_INNER_STEPS,\n",
    "              epochs=1, \n",
    "              verbose=1)\n",
    "    model.set_weights([iw + OUTER_LR * (cw - iw)\n",
    "                       for iw, cw in zip(initial_weights, model.get_weights())])"
   ]
  },
  {
   "cell_type": "code",
   "execution_count": 325,
   "metadata": {},
   "outputs": [
    {
     "data": {
      "text/plain": [
       "(10,)"
      ]
     },
     "execution_count": 325,
     "metadata": {},
     "output_type": "execute_result"
    }
   ],
   "source": [
    "np.asarray(model.get_weights())[7].shape"
   ]
  },
  {
   "cell_type": "code",
   "execution_count": 326,
   "metadata": {},
   "outputs": [
    {
     "ename": "TypeError",
     "evalue": "unsupported operand type(s) for -: 'list' and 'list'",
     "output_type": "error",
     "traceback": [
      "\u001b[0;31m---------------------------------------------------------------------------\u001b[0m",
      "\u001b[0;31mTypeError\u001b[0m                                 Traceback (most recent call last)",
      "\u001b[0;32m<ipython-input-326-e3522dc2392b>\u001b[0m in \u001b[0;36m<module>\u001b[0;34m\u001b[0m\n\u001b[0;32m----> 1\u001b[0;31m \u001b[0mmodel\u001b[0m\u001b[0;34m.\u001b[0m\u001b[0mget_weights\u001b[0m\u001b[0;34m(\u001b[0m\u001b[0;34m)\u001b[0m \u001b[0;34m-\u001b[0m \u001b[0mmodel\u001b[0m\u001b[0;34m.\u001b[0m\u001b[0mget_weights\u001b[0m\u001b[0;34m(\u001b[0m\u001b[0;34m)\u001b[0m\u001b[0;34m\u001b[0m\u001b[0m\n\u001b[0m",
      "\u001b[0;31mTypeError\u001b[0m: unsupported operand type(s) for -: 'list' and 'list'"
     ]
    }
   ],
   "source": [
    "model.get_weights() - model.get_weights()"
   ]
  }
 ],
 "metadata": {
  "kernelspec": {
   "display_name": "Python 3",
   "language": "python",
   "name": "python3"
  },
  "language_info": {
   "codemirror_mode": {
    "name": "ipython",
    "version": 3
   },
   "file_extension": ".py",
   "mimetype": "text/x-python",
   "name": "python",
   "nbconvert_exporter": "python",
   "pygments_lexer": "ipython3",
   "version": "3.6.6"
  }
 },
 "nbformat": 4,
 "nbformat_minor": 2
}
