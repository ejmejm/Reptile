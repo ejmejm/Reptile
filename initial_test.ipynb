{
 "cells": [
  {
   "cell_type": "markdown",
   "metadata": {},
   "source": [
    "Copy of OpenAI's code at https://blog.openai.com/reptile/"
   ]
  },
  {
   "cell_type": "code",
   "execution_count": 1,
   "metadata": {},
   "outputs": [
    {
     "data": {
      "text/plain": [
       "<Figure size 640x480 with 1 Axes>"
      ]
     },
     "metadata": {},
     "output_type": "display_data"
    },
    {
     "name": "stdout",
     "output_type": "stream",
     "text": [
      "-----------------------------\n",
      "iteration               1\n",
      "loss on plotted curve   6.585\n"
     ]
    },
    {
     "data": {
      "text/plain": [
       "<Figure size 640x480 with 1 Axes>"
      ]
     },
     "metadata": {},
     "output_type": "display_data"
    },
    {
     "name": "stdout",
     "output_type": "stream",
     "text": [
      "-----------------------------\n",
      "iteration               1000\n",
      "loss on plotted curve   6.240\n"
     ]
    },
    {
     "data": {
      "text/plain": [
       "<Figure size 640x480 with 1 Axes>"
      ]
     },
     "metadata": {},
     "output_type": "display_data"
    },
    {
     "name": "stdout",
     "output_type": "stream",
     "text": [
      "-----------------------------\n",
      "iteration               2000\n",
      "loss on plotted curve   3.570\n"
     ]
    },
    {
     "data": {
      "text/plain": [
       "<Figure size 640x480 with 1 Axes>"
      ]
     },
     "metadata": {},
     "output_type": "display_data"
    },
    {
     "name": "stdout",
     "output_type": "stream",
     "text": [
      "-----------------------------\n",
      "iteration               3000\n",
      "loss on plotted curve   0.341\n"
     ]
    },
    {
     "data": {
      "text/plain": [
       "<Figure size 640x480 with 1 Axes>"
      ]
     },
     "metadata": {},
     "output_type": "display_data"
    },
    {
     "name": "stdout",
     "output_type": "stream",
     "text": [
      "-----------------------------\n",
      "iteration               4000\n",
      "loss on plotted curve   0.149\n"
     ]
    },
    {
     "data": {
      "text/plain": [
       "<Figure size 640x480 with 1 Axes>"
      ]
     },
     "metadata": {},
     "output_type": "display_data"
    },
    {
     "name": "stdout",
     "output_type": "stream",
     "text": [
      "-----------------------------\n",
      "iteration               5000\n",
      "loss on plotted curve   0.101\n"
     ]
    },
    {
     "data": {
      "text/plain": [
       "<Figure size 640x480 with 1 Axes>"
      ]
     },
     "metadata": {},
     "output_type": "display_data"
    },
    {
     "name": "stdout",
     "output_type": "stream",
     "text": [
      "-----------------------------\n",
      "iteration               6000\n",
      "loss on plotted curve   0.074\n"
     ]
    },
    {
     "data": {
      "text/plain": [
       "<Figure size 640x480 with 1 Axes>"
      ]
     },
     "metadata": {},
     "output_type": "display_data"
    },
    {
     "name": "stdout",
     "output_type": "stream",
     "text": [
      "-----------------------------\n",
      "iteration               7000\n",
      "loss on plotted curve   0.061\n"
     ]
    },
    {
     "data": {
      "text/plain": [
       "<Figure size 640x480 with 1 Axes>"
      ]
     },
     "metadata": {},
     "output_type": "display_data"
    },
    {
     "name": "stdout",
     "output_type": "stream",
     "text": [
      "-----------------------------\n",
      "iteration               8000\n",
      "loss on plotted curve   0.050\n"
     ]
    },
    {
     "data": {
      "text/plain": [
       "<Figure size 640x480 with 1 Axes>"
      ]
     },
     "metadata": {},
     "output_type": "display_data"
    },
    {
     "name": "stdout",
     "output_type": "stream",
     "text": [
      "-----------------------------\n",
      "iteration               9000\n",
      "loss on plotted curve   0.048\n"
     ]
    },
    {
     "data": {
      "text/plain": [
       "<Figure size 640x480 with 1 Axes>"
      ]
     },
     "metadata": {},
     "output_type": "display_data"
    },
    {
     "name": "stdout",
     "output_type": "stream",
     "text": [
      "-----------------------------\n",
      "iteration               10000\n",
      "loss on plotted curve   0.045\n"
     ]
    },
    {
     "data": {
      "text/plain": [
       "<Figure size 640x480 with 1 Axes>"
      ]
     },
     "metadata": {},
     "output_type": "display_data"
    },
    {
     "name": "stdout",
     "output_type": "stream",
     "text": [
      "-----------------------------\n",
      "iteration               11000\n",
      "loss on plotted curve   0.044\n"
     ]
    },
    {
     "data": {
      "text/plain": [
       "<Figure size 640x480 with 1 Axes>"
      ]
     },
     "metadata": {},
     "output_type": "display_data"
    },
    {
     "name": "stdout",
     "output_type": "stream",
     "text": [
      "-----------------------------\n",
      "iteration               12000\n",
      "loss on plotted curve   0.045\n"
     ]
    },
    {
     "data": {
      "text/plain": [
       "<Figure size 640x480 with 1 Axes>"
      ]
     },
     "metadata": {},
     "output_type": "display_data"
    },
    {
     "name": "stdout",
     "output_type": "stream",
     "text": [
      "-----------------------------\n",
      "iteration               13000\n",
      "loss on plotted curve   0.045\n"
     ]
    },
    {
     "data": {
      "text/plain": [
       "<Figure size 640x480 with 1 Axes>"
      ]
     },
     "metadata": {},
     "output_type": "display_data"
    },
    {
     "name": "stdout",
     "output_type": "stream",
     "text": [
      "-----------------------------\n",
      "iteration               14000\n",
      "loss on plotted curve   0.048\n"
     ]
    },
    {
     "data": {
      "text/plain": [
       "<Figure size 640x480 with 1 Axes>"
      ]
     },
     "metadata": {},
     "output_type": "display_data"
    },
    {
     "name": "stdout",
     "output_type": "stream",
     "text": [
      "-----------------------------\n",
      "iteration               15000\n",
      "loss on plotted curve   0.048\n"
     ]
    },
    {
     "data": {
      "text/plain": [
       "<Figure size 640x480 with 1 Axes>"
      ]
     },
     "metadata": {},
     "output_type": "display_data"
    },
    {
     "name": "stdout",
     "output_type": "stream",
     "text": [
      "-----------------------------\n",
      "iteration               16000\n",
      "loss on plotted curve   0.047\n"
     ]
    },
    {
     "data": {
      "text/plain": [
       "<Figure size 640x480 with 1 Axes>"
      ]
     },
     "metadata": {},
     "output_type": "display_data"
    },
    {
     "name": "stdout",
     "output_type": "stream",
     "text": [
      "-----------------------------\n",
      "iteration               17000\n",
      "loss on plotted curve   0.043\n"
     ]
    },
    {
     "data": {
      "text/plain": [
       "<Figure size 640x480 with 1 Axes>"
      ]
     },
     "metadata": {},
     "output_type": "display_data"
    },
    {
     "name": "stdout",
     "output_type": "stream",
     "text": [
      "-----------------------------\n",
      "iteration               18000\n",
      "loss on plotted curve   0.044\n"
     ]
    },
    {
     "data": {
      "text/plain": [
       "<Figure size 640x480 with 1 Axes>"
      ]
     },
     "metadata": {},
     "output_type": "display_data"
    },
    {
     "name": "stdout",
     "output_type": "stream",
     "text": [
      "-----------------------------\n",
      "iteration               19000\n",
      "loss on plotted curve   0.049\n"
     ]
    },
    {
     "data": {
      "text/plain": [
       "<Figure size 640x480 with 1 Axes>"
      ]
     },
     "metadata": {},
     "output_type": "display_data"
    },
    {
     "name": "stdout",
     "output_type": "stream",
     "text": [
      "-----------------------------\n",
      "iteration               20000\n",
      "loss on plotted curve   0.046\n"
     ]
    },
    {
     "data": {
      "text/plain": [
       "<Figure size 640x480 with 1 Axes>"
      ]
     },
     "metadata": {},
     "output_type": "display_data"
    },
    {
     "name": "stdout",
     "output_type": "stream",
     "text": [
      "-----------------------------\n",
      "iteration               21000\n",
      "loss on plotted curve   0.044\n"
     ]
    },
    {
     "data": {
      "text/plain": [
       "<Figure size 640x480 with 1 Axes>"
      ]
     },
     "metadata": {},
     "output_type": "display_data"
    },
    {
     "name": "stdout",
     "output_type": "stream",
     "text": [
      "-----------------------------\n",
      "iteration               22000\n",
      "loss on plotted curve   0.050\n"
     ]
    },
    {
     "data": {
      "text/plain": [
       "<Figure size 640x480 with 1 Axes>"
      ]
     },
     "metadata": {},
     "output_type": "display_data"
    },
    {
     "name": "stdout",
     "output_type": "stream",
     "text": [
      "-----------------------------\n",
      "iteration               23000\n",
      "loss on plotted curve   0.051\n"
     ]
    },
    {
     "data": {
      "text/plain": [
       "<Figure size 640x480 with 1 Axes>"
      ]
     },
     "metadata": {},
     "output_type": "display_data"
    },
    {
     "name": "stdout",
     "output_type": "stream",
     "text": [
      "-----------------------------\n",
      "iteration               24000\n",
      "loss on plotted curve   0.047\n"
     ]
    },
    {
     "data": {
      "text/plain": [
       "<Figure size 640x480 with 1 Axes>"
      ]
     },
     "metadata": {},
     "output_type": "display_data"
    },
    {
     "name": "stdout",
     "output_type": "stream",
     "text": [
      "-----------------------------\n",
      "iteration               25000\n",
      "loss on plotted curve   0.047\n"
     ]
    },
    {
     "data": {
      "text/plain": [
       "<Figure size 640x480 with 1 Axes>"
      ]
     },
     "metadata": {},
     "output_type": "display_data"
    },
    {
     "name": "stdout",
     "output_type": "stream",
     "text": [
      "-----------------------------\n",
      "iteration               26000\n",
      "loss on plotted curve   0.050\n"
     ]
    },
    {
     "data": {
      "text/plain": [
       "<Figure size 640x480 with 1 Axes>"
      ]
     },
     "metadata": {},
     "output_type": "display_data"
    },
    {
     "name": "stdout",
     "output_type": "stream",
     "text": [
      "-----------------------------\n",
      "iteration               27000\n",
      "loss on plotted curve   0.048\n"
     ]
    },
    {
     "data": {
      "text/plain": [
       "<Figure size 640x480 with 1 Axes>"
      ]
     },
     "metadata": {},
     "output_type": "display_data"
    },
    {
     "name": "stdout",
     "output_type": "stream",
     "text": [
      "-----------------------------\n",
      "iteration               28000\n",
      "loss on plotted curve   0.047\n"
     ]
    },
    {
     "data": {
      "text/plain": [
       "<Figure size 640x480 with 1 Axes>"
      ]
     },
     "metadata": {},
     "output_type": "display_data"
    },
    {
     "name": "stdout",
     "output_type": "stream",
     "text": [
      "-----------------------------\n",
      "iteration               29000\n",
      "loss on plotted curve   0.048\n"
     ]
    },
    {
     "data": {
      "text/plain": [
       "<Figure size 640x480 with 1 Axes>"
      ]
     },
     "metadata": {},
     "output_type": "display_data"
    },
    {
     "name": "stdout",
     "output_type": "stream",
     "text": [
      "-----------------------------\n",
      "iteration               30000\n",
      "loss on plotted curve   0.048\n"
     ]
    }
   ],
   "source": [
    "import numpy as np\n",
    "import torch\n",
    "from torch import nn, autograd as ag\n",
    "import matplotlib.pyplot as plt\n",
    "from copy import deepcopy\n",
    "\n",
    "\n",
    "seed = 0\n",
    "plot = True\n",
    "innerstepsize = 0.02 # stepsize in inner SGD\n",
    "innerepochs = 1 # number of epochs of each inner SGD\n",
    "outerstepsize0 = 0.1 # stepsize of outer optimization, i.e., meta-optimization\n",
    "niterations = 30000 # number of outer updates; each iteration we sample one task and update on it\n",
    "\n",
    "rng = np.random.RandomState(seed)\n",
    "torch.manual_seed(seed)\n",
    "\n",
    "# Define task distribution\n",
    "x_all = np.linspace(-5, 5, 50)[:,None] # All of the x points\n",
    "ntrain = 10 # Size of training minibatches\n",
    "def gen_task():\n",
    "    \"Generate classification problem\"\n",
    "    phase = rng.uniform(low=0, high=2*np.pi)\n",
    "    ampl = rng.uniform(0.1, 5)\n",
    "    f_randomsine = lambda x : np.sin(x + phase) * ampl\n",
    "    return f_randomsine\n",
    "\n",
    "# Define model. Reptile paper uses ReLU, but Tanh gives slightly better results\n",
    "model = nn.Sequential(\n",
    "    nn.Linear(1, 64),\n",
    "    nn.Tanh(),\n",
    "    nn.Linear(64, 64),\n",
    "    nn.Tanh(),\n",
    "    nn.Linear(64, 1),\n",
    ")\n",
    "\n",
    "def totorch(x):\n",
    "    return ag.Variable(torch.Tensor(x))\n",
    "\n",
    "def train_on_batch(x, y):\n",
    "    x = totorch(x)\n",
    "    y = totorch(y)\n",
    "    model.zero_grad()\n",
    "    ypred = model(x)\n",
    "    loss = (ypred - y).pow(2).mean()\n",
    "    loss.backward()\n",
    "    for param in model.parameters():\n",
    "        param.data -= innerstepsize * param.grad.data\n",
    "\n",
    "def predict(x):\n",
    "    x = totorch(x)\n",
    "    return model(x).data.numpy()\n",
    "\n",
    "# Choose a fixed task and minibatch for visualization\n",
    "f_plot = gen_task()\n",
    "xtrain_plot = x_all[rng.choice(len(x_all), size=ntrain)]\n",
    "\n",
    "# Reptile training loop\n",
    "for iteration in range(niterations):\n",
    "    weights_before = deepcopy(model.state_dict())\n",
    "    # Generate task\n",
    "    f = gen_task()\n",
    "    y_all = f(x_all)\n",
    "    # Do SGD on this task\n",
    "    inds = rng.permutation(len(x_all))\n",
    "    for _ in range(innerepochs):\n",
    "        for start in range(0, len(x_all), ntrain):\n",
    "            mbinds = inds[start:start+ntrain]\n",
    "            train_on_batch(x_all[mbinds], y_all[mbinds])\n",
    "    # Interpolate between current weights and trained weights from this task\n",
    "    # I.e. (weights_before - weights_after) is the meta-gradient\n",
    "    weights_after = model.state_dict()\n",
    "    outerstepsize = outerstepsize0 * (1 - iteration / niterations) # linear schedule\n",
    "    model.load_state_dict({name : \n",
    "        weights_before[name] + (weights_after[name] - weights_before[name]) * outerstepsize \n",
    "        for name in weights_before})\n",
    "\n",
    "    # Periodically plot the results on a particular task and minibatch\n",
    "    if plot and iteration==0 or (iteration+1) % 1000 == 0:\n",
    "        plt.cla()\n",
    "        f = f_plot\n",
    "        weights_before = deepcopy(model.state_dict()) # save snapshot before evaluation\n",
    "        plt.plot(x_all, predict(x_all), label=\"pred after 0\", color=(0,0,1))\n",
    "        for inneriter in range(32):\n",
    "            train_on_batch(xtrain_plot, f(xtrain_plot))\n",
    "            if (inneriter+1) % 8 == 0:\n",
    "                frac = (inneriter+1) / 32\n",
    "                plt.plot(x_all, predict(x_all), label=\"pred after %i\"%(inneriter+1), color=(frac, 0, 1-frac))\n",
    "        plt.plot(x_all, f(x_all), label=\"true\", color=(0,1,0))\n",
    "        lossval = np.square(predict(x_all) - f(x_all)).mean()\n",
    "        plt.plot(xtrain_plot, f(xtrain_plot), \"x\", label=\"train\", color=\"k\")\n",
    "        plt.ylim(-4,4)\n",
    "        plt.legend(loc=\"lower right\")\n",
    "        plt.pause(0.01)\n",
    "        model.load_state_dict(weights_before) # restore from snapshot\n",
    "        print(f\"-----------------------------\")\n",
    "        print(f\"iteration               {iteration+1}\")\n",
    "        print(f\"loss on plotted curve   {lossval:.3f}\") # would be better to average loss over a set of examples, but this is optimized for brevity"
   ]
  },
  {
   "cell_type": "code",
   "execution_count": null,
   "metadata": {},
   "outputs": [],
   "source": []
  }
 ],
 "metadata": {
  "kernelspec": {
   "display_name": "Python 3",
   "language": "python",
   "name": "python3"
  },
  "language_info": {
   "codemirror_mode": {
    "name": "ipython",
    "version": 3
   },
   "file_extension": ".py",
   "mimetype": "text/x-python",
   "name": "python",
   "nbconvert_exporter": "python",
   "pygments_lexer": "ipython3",
   "version": "3.6.6"
  }
 },
 "nbformat": 4,
 "nbformat_minor": 2
}
